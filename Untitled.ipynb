{
 "cells": [
  {
   "cell_type": "markdown",
   "id": "5e70a8cf",
   "metadata": {},
   "source": [
    "# Import Libraries"
   ]
  },
  {
   "cell_type": "code",
   "execution_count": 144,
   "id": "3eca753b",
   "metadata": {},
   "outputs": [],
   "source": [
    "import pandas as pd\n",
    "import numpy as np\n",
    "import matplotlib.pyplot as plt\n",
    "import seaborn as sns\n",
    "from sklearn.preprocessing import LabelEncoder\n",
    "from sklearn.model_selection import train_test_split\n",
    "# Load Dataset\n",
    "df = pd.read_csv('datasets/IKEA_SA_Furniture_Web_Scrapings_sss.csv')"
   ]
  },
  {
   "cell_type": "code",
   "execution_count": 145,
   "id": "3aac805f",
   "metadata": {},
   "outputs": [
    {
     "data": {
      "text/html": [
       "<div>\n",
       "<style scoped>\n",
       "    .dataframe tbody tr th:only-of-type {\n",
       "        vertical-align: middle;\n",
       "    }\n",
       "\n",
       "    .dataframe tbody tr th {\n",
       "        vertical-align: top;\n",
       "    }\n",
       "\n",
       "    .dataframe thead th {\n",
       "        text-align: right;\n",
       "    }\n",
       "</style>\n",
       "<table border=\"1\" class=\"dataframe\">\n",
       "  <thead>\n",
       "    <tr style=\"text-align: right;\">\n",
       "      <th></th>\n",
       "      <th>Unnamed: 0</th>\n",
       "      <th>item_id</th>\n",
       "      <th>name</th>\n",
       "      <th>category</th>\n",
       "      <th>price</th>\n",
       "      <th>old_price</th>\n",
       "      <th>sellable_online</th>\n",
       "      <th>link</th>\n",
       "      <th>other_colors</th>\n",
       "      <th>short_description</th>\n",
       "      <th>designer</th>\n",
       "      <th>depth</th>\n",
       "      <th>height</th>\n",
       "      <th>width</th>\n",
       "    </tr>\n",
       "  </thead>\n",
       "  <tbody>\n",
       "    <tr>\n",
       "      <th>0</th>\n",
       "      <td>0</td>\n",
       "      <td>90420332</td>\n",
       "      <td>FREKVENS</td>\n",
       "      <td>Bar furniture</td>\n",
       "      <td>265.0</td>\n",
       "      <td>No old price</td>\n",
       "      <td>True</td>\n",
       "      <td>https://www.ikea.com/sa/en/p/frekvens-bar-tabl...</td>\n",
       "      <td>No</td>\n",
       "      <td>Bar table, in/outdoor,          51x51 cm</td>\n",
       "      <td>Nicholai Wiig Hansen</td>\n",
       "      <td>NaN</td>\n",
       "      <td>99.0</td>\n",
       "      <td>51.0</td>\n",
       "    </tr>\n",
       "    <tr>\n",
       "      <th>1</th>\n",
       "      <td>1</td>\n",
       "      <td>368814</td>\n",
       "      <td>NORDVIKEN</td>\n",
       "      <td>Bar furniture</td>\n",
       "      <td>995.0</td>\n",
       "      <td>No old price</td>\n",
       "      <td>False</td>\n",
       "      <td>https://www.ikea.com/sa/en/p/nordviken-bar-tab...</td>\n",
       "      <td>No</td>\n",
       "      <td>Bar table,          140x80 cm</td>\n",
       "      <td>Francis Cayouette</td>\n",
       "      <td>NaN</td>\n",
       "      <td>105.0</td>\n",
       "      <td>80.0</td>\n",
       "    </tr>\n",
       "    <tr>\n",
       "      <th>2</th>\n",
       "      <td>2</td>\n",
       "      <td>9333523</td>\n",
       "      <td>NORDVIKEN / NORDVIKEN</td>\n",
       "      <td>Bar furniture</td>\n",
       "      <td>2095.0</td>\n",
       "      <td>No old price</td>\n",
       "      <td>False</td>\n",
       "      <td>https://www.ikea.com/sa/en/p/nordviken-nordvik...</td>\n",
       "      <td>No</td>\n",
       "      <td>Bar table and 4 bar stools</td>\n",
       "      <td>Francis Cayouette</td>\n",
       "      <td>NaN</td>\n",
       "      <td>NaN</td>\n",
       "      <td>NaN</td>\n",
       "    </tr>\n",
       "    <tr>\n",
       "      <th>3</th>\n",
       "      <td>3</td>\n",
       "      <td>80155205</td>\n",
       "      <td>STIG</td>\n",
       "      <td>Bar furniture</td>\n",
       "      <td>69.0</td>\n",
       "      <td>No old price</td>\n",
       "      <td>True</td>\n",
       "      <td>https://www.ikea.com/sa/en/p/stig-bar-stool-wi...</td>\n",
       "      <td>Yes</td>\n",
       "      <td>Bar stool with backrest,          74 cm</td>\n",
       "      <td>Henrik Preutz</td>\n",
       "      <td>50.0</td>\n",
       "      <td>100.0</td>\n",
       "      <td>60.0</td>\n",
       "    </tr>\n",
       "    <tr>\n",
       "      <th>4</th>\n",
       "      <td>4</td>\n",
       "      <td>30180504</td>\n",
       "      <td>NORBERG</td>\n",
       "      <td>Bar furniture</td>\n",
       "      <td>225.0</td>\n",
       "      <td>No old price</td>\n",
       "      <td>True</td>\n",
       "      <td>https://www.ikea.com/sa/en/p/norberg-wall-moun...</td>\n",
       "      <td>No</td>\n",
       "      <td>Wall-mounted drop-leaf table,         ...</td>\n",
       "      <td>Marcus Arvonen</td>\n",
       "      <td>60.0</td>\n",
       "      <td>43.0</td>\n",
       "      <td>74.0</td>\n",
       "    </tr>\n",
       "  </tbody>\n",
       "</table>\n",
       "</div>"
      ],
      "text/plain": [
       "   Unnamed: 0   item_id                   name       category   price  \\\n",
       "0           0  90420332               FREKVENS  Bar furniture   265.0   \n",
       "1           1    368814              NORDVIKEN  Bar furniture   995.0   \n",
       "2           2   9333523  NORDVIKEN / NORDVIKEN  Bar furniture  2095.0   \n",
       "3           3  80155205                   STIG  Bar furniture    69.0   \n",
       "4           4  30180504                NORBERG  Bar furniture   225.0   \n",
       "\n",
       "      old_price  sellable_online  \\\n",
       "0  No old price             True   \n",
       "1  No old price            False   \n",
       "2  No old price            False   \n",
       "3  No old price             True   \n",
       "4  No old price             True   \n",
       "\n",
       "                                                link other_colors  \\\n",
       "0  https://www.ikea.com/sa/en/p/frekvens-bar-tabl...           No   \n",
       "1  https://www.ikea.com/sa/en/p/nordviken-bar-tab...           No   \n",
       "2  https://www.ikea.com/sa/en/p/nordviken-nordvik...           No   \n",
       "3  https://www.ikea.com/sa/en/p/stig-bar-stool-wi...          Yes   \n",
       "4  https://www.ikea.com/sa/en/p/norberg-wall-moun...           No   \n",
       "\n",
       "                                   short_description              designer  \\\n",
       "0           Bar table, in/outdoor,          51x51 cm  Nicholai Wiig Hansen   \n",
       "1                      Bar table,          140x80 cm     Francis Cayouette   \n",
       "2                         Bar table and 4 bar stools     Francis Cayouette   \n",
       "3            Bar stool with backrest,          74 cm         Henrik Preutz   \n",
       "4          Wall-mounted drop-leaf table,         ...        Marcus Arvonen   \n",
       "\n",
       "   depth  height  width  \n",
       "0    NaN    99.0   51.0  \n",
       "1    NaN   105.0   80.0  \n",
       "2    NaN     NaN    NaN  \n",
       "3   50.0   100.0   60.0  \n",
       "4   60.0    43.0   74.0  "
      ]
     },
     "execution_count": 145,
     "metadata": {},
     "output_type": "execute_result"
    }
   ],
   "source": [
    "#Examine data\n",
    "df.head()"
   ]
  },
  {
   "cell_type": "code",
   "execution_count": 147,
   "id": "78ca0668",
   "metadata": {},
   "outputs": [
    {
     "name": "stdout",
     "output_type": "stream",
     "text": [
      "<class 'pandas.core.frame.DataFrame'>\n",
      "RangeIndex: 3694 entries, 0 to 3693\n",
      "Data columns (total 14 columns):\n",
      " #   Column             Non-Null Count  Dtype  \n",
      "---  ------             --------------  -----  \n",
      " 0   Unnamed: 0         3694 non-null   int64  \n",
      " 1   item_id            3694 non-null   int64  \n",
      " 2   name               3694 non-null   object \n",
      " 3   category           3694 non-null   object \n",
      " 4   price              3694 non-null   float64\n",
      " 5   old_price          3694 non-null   object \n",
      " 6   sellable_online    3694 non-null   bool   \n",
      " 7   link               3694 non-null   object \n",
      " 8   other_colors       3694 non-null   object \n",
      " 9   short_description  3694 non-null   object \n",
      " 10  designer           3694 non-null   object \n",
      " 11  depth              2231 non-null   float64\n",
      " 12  height             2706 non-null   float64\n",
      " 13  width              3105 non-null   float64\n",
      "dtypes: bool(1), float64(4), int64(2), object(7)\n",
      "memory usage: 378.9+ KB\n"
     ]
    }
   ],
   "source": [
    "#Examine info for the dataset\n",
    "df.info()"
   ]
  },
  {
   "cell_type": "markdown",
   "id": "0037f5ac",
   "metadata": {},
   "source": [
    "# DATA PRE-PROCESSING"
   ]
  },
  {
   "cell_type": "markdown",
   "id": "bc08d4ac",
   "metadata": {},
   "source": [
    "Data Cleaning & Manipulation"
   ]
  },
  {
   "cell_type": "code",
   "execution_count": 148,
   "id": "97c72b03",
   "metadata": {},
   "outputs": [],
   "source": [
    "#There is one column Unnamed:0 that doesn't represent anything \n",
    "#we can drop it\n",
    "df = df.drop(['Unnamed: 0'],axis=1)"
   ]
  },
  {
   "cell_type": "code",
   "execution_count": 149,
   "id": "9d0243cf",
   "metadata": {},
   "outputs": [
    {
     "data": {
      "text/plain": [
       "item_id                 0\n",
       "name                    0\n",
       "category                0\n",
       "price                   0\n",
       "old_price               0\n",
       "sellable_online         0\n",
       "link                    0\n",
       "other_colors            0\n",
       "short_description       0\n",
       "designer                0\n",
       "depth                1463\n",
       "height                988\n",
       "width                 589\n",
       "dtype: int64"
      ]
     },
     "execution_count": 149,
     "metadata": {},
     "output_type": "execute_result"
    }
   ],
   "source": [
    "# checking missing value\n",
    "df.isnull().sum()"
   ]
  },
  {
   "cell_type": "code",
   "execution_count": 150,
   "id": "7811192b",
   "metadata": {},
   "outputs": [
    {
     "data": {
      "text/plain": [
       "0"
      ]
     },
     "execution_count": 150,
     "metadata": {},
     "output_type": "execute_result"
    }
   ],
   "source": [
    "# Check if there any duplicated values\n",
    "df.duplicated().sum()"
   ]
  },
  {
   "cell_type": "code",
   "execution_count": 151,
   "id": "a26ba984",
   "metadata": {},
   "outputs": [
    {
     "data": {
      "text/html": [
       "<div>\n",
       "<style scoped>\n",
       "    .dataframe tbody tr th:only-of-type {\n",
       "        vertical-align: middle;\n",
       "    }\n",
       "\n",
       "    .dataframe tbody tr th {\n",
       "        vertical-align: top;\n",
       "    }\n",
       "\n",
       "    .dataframe thead th {\n",
       "        text-align: right;\n",
       "    }\n",
       "</style>\n",
       "<table border=\"1\" class=\"dataframe\">\n",
       "  <thead>\n",
       "    <tr style=\"text-align: right;\">\n",
       "      <th></th>\n",
       "      <th>category</th>\n",
       "      <th>MedianDepth</th>\n",
       "      <th>MedianHeight</th>\n",
       "      <th>MedianWidth</th>\n",
       "    </tr>\n",
       "  </thead>\n",
       "  <tbody>\n",
       "    <tr>\n",
       "      <th>0</th>\n",
       "      <td>Bar furniture</td>\n",
       "      <td>47.0</td>\n",
       "      <td>102.0</td>\n",
       "      <td>48.0</td>\n",
       "    </tr>\n",
       "    <tr>\n",
       "      <th>1</th>\n",
       "      <td>Beds</td>\n",
       "      <td>88.0</td>\n",
       "      <td>84.0</td>\n",
       "      <td>140.0</td>\n",
       "    </tr>\n",
       "    <tr>\n",
       "      <th>2</th>\n",
       "      <td>Bookcases &amp; shelving units</td>\n",
       "      <td>36.0</td>\n",
       "      <td>147.0</td>\n",
       "      <td>81.0</td>\n",
       "    </tr>\n",
       "    <tr>\n",
       "      <th>3</th>\n",
       "      <td>Cabinets &amp; cupboards</td>\n",
       "      <td>38.0</td>\n",
       "      <td>101.0</td>\n",
       "      <td>80.0</td>\n",
       "    </tr>\n",
       "    <tr>\n",
       "      <th>4</th>\n",
       "      <td>Café furniture</td>\n",
       "      <td>46.5</td>\n",
       "      <td>77.5</td>\n",
       "      <td>53.0</td>\n",
       "    </tr>\n",
       "    <tr>\n",
       "      <th>5</th>\n",
       "      <td>Chairs</td>\n",
       "      <td>53.5</td>\n",
       "      <td>77.0</td>\n",
       "      <td>67.0</td>\n",
       "    </tr>\n",
       "    <tr>\n",
       "      <th>6</th>\n",
       "      <td>Chests of drawers &amp; drawer units</td>\n",
       "      <td>47.0</td>\n",
       "      <td>73.0</td>\n",
       "      <td>67.0</td>\n",
       "    </tr>\n",
       "    <tr>\n",
       "      <th>7</th>\n",
       "      <td>Children's furniture</td>\n",
       "      <td>45.0</td>\n",
       "      <td>67.0</td>\n",
       "      <td>56.0</td>\n",
       "    </tr>\n",
       "    <tr>\n",
       "      <th>8</th>\n",
       "      <td>Nursery furniture</td>\n",
       "      <td>44.0</td>\n",
       "      <td>86.5</td>\n",
       "      <td>60.0</td>\n",
       "    </tr>\n",
       "    <tr>\n",
       "      <th>9</th>\n",
       "      <td>Outdoor furniture</td>\n",
       "      <td>67.0</td>\n",
       "      <td>73.0</td>\n",
       "      <td>62.5</td>\n",
       "    </tr>\n",
       "    <tr>\n",
       "      <th>10</th>\n",
       "      <td>Room dividers</td>\n",
       "      <td>39.0</td>\n",
       "      <td>147.0</td>\n",
       "      <td>147.0</td>\n",
       "    </tr>\n",
       "    <tr>\n",
       "      <th>11</th>\n",
       "      <td>Sideboards, buffets &amp; console tables</td>\n",
       "      <td>40.0</td>\n",
       "      <td>92.0</td>\n",
       "      <td>120.0</td>\n",
       "    </tr>\n",
       "    <tr>\n",
       "      <th>12</th>\n",
       "      <td>Sofas &amp; armchairs</td>\n",
       "      <td>98.0</td>\n",
       "      <td>83.0</td>\n",
       "      <td>196.0</td>\n",
       "    </tr>\n",
       "    <tr>\n",
       "      <th>13</th>\n",
       "      <td>TV &amp; media furniture</td>\n",
       "      <td>40.0</td>\n",
       "      <td>64.0</td>\n",
       "      <td>120.0</td>\n",
       "    </tr>\n",
       "    <tr>\n",
       "      <th>14</th>\n",
       "      <td>Tables &amp; desks</td>\n",
       "      <td>46.0</td>\n",
       "      <td>74.0</td>\n",
       "      <td>75.0</td>\n",
       "    </tr>\n",
       "    <tr>\n",
       "      <th>15</th>\n",
       "      <td>Trolleys</td>\n",
       "      <td>52.0</td>\n",
       "      <td>88.0</td>\n",
       "      <td>49.0</td>\n",
       "    </tr>\n",
       "    <tr>\n",
       "      <th>16</th>\n",
       "      <td>Wardrobes</td>\n",
       "      <td>57.0</td>\n",
       "      <td>236.0</td>\n",
       "      <td>150.0</td>\n",
       "    </tr>\n",
       "  </tbody>\n",
       "</table>\n",
       "</div>"
      ],
      "text/plain": [
       "                                category  MedianDepth  MedianHeight  \\\n",
       "0                          Bar furniture         47.0         102.0   \n",
       "1                                   Beds         88.0          84.0   \n",
       "2             Bookcases & shelving units         36.0         147.0   \n",
       "3                   Cabinets & cupboards         38.0         101.0   \n",
       "4                         Café furniture         46.5          77.5   \n",
       "5                                 Chairs         53.5          77.0   \n",
       "6       Chests of drawers & drawer units         47.0          73.0   \n",
       "7                   Children's furniture         45.0          67.0   \n",
       "8                      Nursery furniture         44.0          86.5   \n",
       "9                      Outdoor furniture         67.0          73.0   \n",
       "10                         Room dividers         39.0         147.0   \n",
       "11  Sideboards, buffets & console tables         40.0          92.0   \n",
       "12                     Sofas & armchairs         98.0          83.0   \n",
       "13                  TV & media furniture         40.0          64.0   \n",
       "14                        Tables & desks         46.0          74.0   \n",
       "15                              Trolleys         52.0          88.0   \n",
       "16                             Wardrobes         57.0         236.0   \n",
       "\n",
       "    MedianWidth  \n",
       "0          48.0  \n",
       "1         140.0  \n",
       "2          81.0  \n",
       "3          80.0  \n",
       "4          53.0  \n",
       "5          67.0  \n",
       "6          67.0  \n",
       "7          56.0  \n",
       "8          60.0  \n",
       "9          62.5  \n",
       "10        147.0  \n",
       "11        120.0  \n",
       "12        196.0  \n",
       "13        120.0  \n",
       "14         75.0  \n",
       "15         49.0  \n",
       "16        150.0  "
      ]
     },
     "execution_count": 151,
     "metadata": {},
     "output_type": "execute_result"
    }
   ],
   "source": [
    "# As we can see there no duplicated value in our data\n",
    "# the null value come from the dimension columns with different amount of null.\n",
    "# We can fill it in with average, median value for each dimension from same product category\n",
    "\n",
    "#count the median value for depth for each categories\n",
    "median_depth = df.groupby(['category'])['depth'].median().reset_index()\n",
    "median_depth.columns = ['category','MedianDepth']\n",
    "# count the median value height for each categories\n",
    "median_height = df.groupby(['category'])['height'].median().reset_index()\n",
    "median_height.columns = ['category','MedianHeight']\n",
    "#count the median value width for each categories\n",
    "median_width = df.groupby(['category'])['width'].median().reset_index()\n",
    "median_width.columns = ['category','MedianWidth']\n",
    "#create a new dataframe that contain the median for each dimensions, from each categories\n",
    "median_size = pd.merge(pd.merge(median_depth,median_height,on='category'),median_width, on='category')\n",
    "median_size"
   ]
  },
  {
   "cell_type": "code",
   "execution_count": 152,
   "id": "dd725299",
   "metadata": {},
   "outputs": [
    {
     "data": {
      "text/plain": [
       "item_id              0\n",
       "name                 0\n",
       "category             0\n",
       "price                0\n",
       "old_price            0\n",
       "sellable_online      0\n",
       "link                 0\n",
       "other_colors         0\n",
       "short_description    0\n",
       "designer             0\n",
       "depth                0\n",
       "height               0\n",
       "width                0\n",
       "MedianDepth          0\n",
       "MedianHeight         0\n",
       "MedianWidth          0\n",
       "dtype: int64"
      ]
     },
     "execution_count": 152,
     "metadata": {},
     "output_type": "execute_result"
    }
   ],
   "source": [
    "#merge the median dataframe with existing dataframe\n",
    "df = pd.merge(df,median_size,on='category')\n",
    "#fill the null values in each dimension column,with the average median value\n",
    "df['depth'] = df['depth'].fillna(df['MedianDepth'])\n",
    "df['height'] = df['height'].fillna(df['MedianHeight'])\n",
    "df['width'] = df['width'].fillna(df['MedianWidth'])\n",
    "#let's check it again\n",
    "df.isnull().sum()"
   ]
  },
  {
   "cell_type": "code",
   "execution_count": 153,
   "id": "cd4efe3c",
   "metadata": {},
   "outputs": [],
   "source": [
    "# drop the median columns\n",
    "df.drop(['MedianDepth','MedianHeight','MedianWidth'],axis='columns', inplace=True)\n",
    "#create new column product volume\n",
    "df['volume'] = df['depth']*df['height']*df['width']"
   ]
  },
  {
   "cell_type": "code",
   "execution_count": 154,
   "id": "4928cc4a",
   "metadata": {},
   "outputs": [
    {
     "data": {
      "text/plain": [
       "array(['No old price', 'No old price', 'No old price', ..., 'SR 1,050',\n",
       "       'SR 3,130', 'SR 1,535'], dtype=object)"
      ]
     },
     "execution_count": 154,
     "metadata": {},
     "output_type": "execute_result"
    }
   ],
   "source": [
    "# The old_price column has wrong datatype(object)\n",
    "# Let's change it to float\n",
    "#find out the value in old_price column\n",
    "df['old_price'].values"
   ]
  },
  {
   "cell_type": "code",
   "execution_count": 155,
   "id": "a4b04fc1",
   "metadata": {},
   "outputs": [],
   "source": [
    "#create fix_old_price function\n",
    "def fix_old_price(df):\n",
    "    if df['old_price']=='No old price':\n",
    "        return df['price']\n",
    "    elif df['old_price'][-4:] != 'pack':\n",
    "        return float(str(df['old_price'])[3:].replace(',',''))\n",
    "    else:\n",
    "        return np.nan"
   ]
  },
  {
   "cell_type": "code",
   "execution_count": 156,
   "id": "1ba1e26a",
   "metadata": {},
   "outputs": [
    {
     "data": {
      "text/html": [
       "<div>\n",
       "<style scoped>\n",
       "    .dataframe tbody tr th:only-of-type {\n",
       "        vertical-align: middle;\n",
       "    }\n",
       "\n",
       "    .dataframe tbody tr th {\n",
       "        vertical-align: top;\n",
       "    }\n",
       "\n",
       "    .dataframe thead th {\n",
       "        text-align: right;\n",
       "    }\n",
       "</style>\n",
       "<table border=\"1\" class=\"dataframe\">\n",
       "  <thead>\n",
       "    <tr style=\"text-align: right;\">\n",
       "      <th></th>\n",
       "      <th>price</th>\n",
       "      <th>old_price</th>\n",
       "    </tr>\n",
       "  </thead>\n",
       "  <tbody>\n",
       "    <tr>\n",
       "      <th>0</th>\n",
       "      <td>265.0</td>\n",
       "      <td>265.0</td>\n",
       "    </tr>\n",
       "    <tr>\n",
       "      <th>1</th>\n",
       "      <td>995.0</td>\n",
       "      <td>995.0</td>\n",
       "    </tr>\n",
       "    <tr>\n",
       "      <th>2</th>\n",
       "      <td>2095.0</td>\n",
       "      <td>2095.0</td>\n",
       "    </tr>\n",
       "    <tr>\n",
       "      <th>3</th>\n",
       "      <td>69.0</td>\n",
       "      <td>69.0</td>\n",
       "    </tr>\n",
       "    <tr>\n",
       "      <th>4</th>\n",
       "      <td>225.0</td>\n",
       "      <td>225.0</td>\n",
       "    </tr>\n",
       "  </tbody>\n",
       "</table>\n",
       "</div>"
      ],
      "text/plain": [
       "    price  old_price\n",
       "0   265.0      265.0\n",
       "1   995.0      995.0\n",
       "2  2095.0     2095.0\n",
       "3    69.0       69.0\n",
       "4   225.0      225.0"
      ]
     },
     "execution_count": 156,
     "metadata": {},
     "output_type": "execute_result"
    }
   ],
   "source": [
    "#create new column price_diff to help to identify if there is a difference between price and old_price\n",
    "df['price_diff'] = (df['old_price']!='No old price').astype(int)\n",
    "# apply the function\n",
    "df['old_price']= df.apply(fix_old_price,axis=1)\n",
    "df[['price','old_price']].head()"
   ]
  },
  {
   "cell_type": "code",
   "execution_count": 24,
   "id": "3555c7eb",
   "metadata": {},
   "outputs": [
    {
     "data": {
      "text/plain": [
       "item_id               0\n",
       "name                  0\n",
       "category              0\n",
       "price                 0\n",
       "old_price            10\n",
       "sellable_online       0\n",
       "link                  0\n",
       "other_colors          0\n",
       "short_description     0\n",
       "designer              0\n",
       "depth                 0\n",
       "height                0\n",
       "width                 0\n",
       "volume                0\n",
       "price_diff            0\n",
       "dtype: int64"
      ]
     },
     "execution_count": 24,
     "metadata": {},
     "output_type": "execute_result"
    }
   ],
   "source": [
    "# Let's check again for null values\n",
    "df.isnull().sum()"
   ]
  },
  {
   "cell_type": "code",
   "execution_count": 157,
   "id": "f135a787",
   "metadata": {},
   "outputs": [],
   "source": [
    "#fill the column old_price with thr null values for the price\n",
    "df['old_price']= df['old_price'].fillna(df['price'])\n",
    "# create new column to calculate the amount of the difference between old_price anr price\n",
    "df['diff_amount'] = df['old_price'] - df['price']"
   ]
  },
  {
   "cell_type": "code",
   "execution_count": 158,
   "id": "b95a9757",
   "metadata": {},
   "outputs": [
    {
     "data": {
      "text/plain": [
       "item_id              0\n",
       "name                 0\n",
       "category             0\n",
       "price                0\n",
       "old_price            0\n",
       "sellable_online      0\n",
       "link                 0\n",
       "other_colors         0\n",
       "short_description    0\n",
       "designer             0\n",
       "depth                0\n",
       "height               0\n",
       "width                0\n",
       "volume               0\n",
       "price_diff           0\n",
       "diff_amount          0\n",
       "dtype: int64"
      ]
     },
     "execution_count": 158,
     "metadata": {},
     "output_type": "execute_result"
    }
   ],
   "source": [
    "# Let's check it again\n",
    "df.isnull().sum()"
   ]
  },
  {
   "cell_type": "code",
   "execution_count": 159,
   "id": "b2b7461e",
   "metadata": {},
   "outputs": [
    {
     "data": {
      "text/plain": [
       "<AxesSubplot:>"
      ]
     },
     "execution_count": 159,
     "metadata": {},
     "output_type": "execute_result"
    },
    {
     "data": {
      "image/png": "[encoded data removed]",
      "text/plain": [
       "<Figure size 432x288 with 2 Axes>"
      ]
     },
     "metadata": {
      "needs_background": "light"
     },
     "output_type": "display_data"
    }
   ],
   "source": [
    "#create correlation heatmap\n",
    "correlation = df.corr()\n",
    "sns.heatmap(correlation,annot=True,fmt='.2f')"
   ]
  },
  {
   "cell_type": "code",
   "execution_count": 161,
   "id": "7686f951",
   "metadata": {},
   "outputs": [
    {
     "data": {
      "text/html": [
       "<div>\n",
       "<style scoped>\n",
       "    .dataframe tbody tr th:only-of-type {\n",
       "        vertical-align: middle;\n",
       "    }\n",
       "\n",
       "    .dataframe tbody tr th {\n",
       "        vertical-align: top;\n",
       "    }\n",
       "\n",
       "    .dataframe thead th {\n",
       "        text-align: right;\n",
       "    }\n",
       "</style>\n",
       "<table border=\"1\" class=\"dataframe\">\n",
       "  <thead>\n",
       "    <tr style=\"text-align: right;\">\n",
       "      <th></th>\n",
       "      <th>item_id</th>\n",
       "      <th>price</th>\n",
       "      <th>old_price</th>\n",
       "      <th>depth</th>\n",
       "      <th>height</th>\n",
       "      <th>width</th>\n",
       "      <th>volume</th>\n",
       "      <th>price_diff</th>\n",
       "      <th>diff_amount</th>\n",
       "    </tr>\n",
       "  </thead>\n",
       "  <tbody>\n",
       "    <tr>\n",
       "      <th>count</th>\n",
       "      <td>3.694000e+03</td>\n",
       "      <td>3694.000000</td>\n",
       "      <td>3694.000000</td>\n",
       "      <td>3694.000000</td>\n",
       "      <td>3694.000000</td>\n",
       "      <td>3694.000000</td>\n",
       "      <td>3.694000e+03</td>\n",
       "      <td>3694.000000</td>\n",
       "      <td>3694.000000</td>\n",
       "    </tr>\n",
       "    <tr>\n",
       "      <th>mean</th>\n",
       "      <td>4.863240e+07</td>\n",
       "      <td>1078.208419</td>\n",
       "      <td>1125.014348</td>\n",
       "      <td>55.880211</td>\n",
       "      <td>98.524228</td>\n",
       "      <td>105.420953</td>\n",
       "      <td>7.058127e+05</td>\n",
       "      <td>0.177044</td>\n",
       "      <td>46.805929</td>\n",
       "    </tr>\n",
       "    <tr>\n",
       "      <th>std</th>\n",
       "      <td>2.888709e+07</td>\n",
       "      <td>1374.652494</td>\n",
       "      <td>1443.543124</td>\n",
       "      <td>26.683012</td>\n",
       "      <td>55.201894</td>\n",
       "      <td>68.800229</td>\n",
       "      <td>9.146756e+05</td>\n",
       "      <td>0.381757</td>\n",
       "      <td>170.552565</td>\n",
       "    </tr>\n",
       "    <tr>\n",
       "      <th>min</th>\n",
       "      <td>5.848700e+04</td>\n",
       "      <td>3.000000</td>\n",
       "      <td>3.000000</td>\n",
       "      <td>1.000000</td>\n",
       "      <td>1.000000</td>\n",
       "      <td>1.000000</td>\n",
       "      <td>4.000000e+01</td>\n",
       "      <td>0.000000</td>\n",
       "      <td>0.000000</td>\n",
       "    </tr>\n",
       "    <tr>\n",
       "      <th>25%</th>\n",
       "      <td>2.039057e+07</td>\n",
       "      <td>180.900000</td>\n",
       "      <td>195.000000</td>\n",
       "      <td>40.000000</td>\n",
       "      <td>73.000000</td>\n",
       "      <td>60.000000</td>\n",
       "      <td>2.042400e+05</td>\n",
       "      <td>0.000000</td>\n",
       "      <td>0.000000</td>\n",
       "    </tr>\n",
       "    <tr>\n",
       "      <th>50%</th>\n",
       "      <td>4.928808e+07</td>\n",
       "      <td>544.700000</td>\n",
       "      <td>550.000000</td>\n",
       "      <td>46.500000</td>\n",
       "      <td>80.000000</td>\n",
       "      <td>80.000000</td>\n",
       "      <td>3.072000e+05</td>\n",
       "      <td>0.000000</td>\n",
       "      <td>0.000000</td>\n",
       "    </tr>\n",
       "    <tr>\n",
       "      <th>75%</th>\n",
       "      <td>7.040357e+07</td>\n",
       "      <td>1429.500000</td>\n",
       "      <td>1495.000000</td>\n",
       "      <td>65.000000</td>\n",
       "      <td>105.000000</td>\n",
       "      <td>141.000000</td>\n",
       "      <td>8.640000e+05</td>\n",
       "      <td>0.000000</td>\n",
       "      <td>0.000000</td>\n",
       "    </tr>\n",
       "    <tr>\n",
       "      <th>max</th>\n",
       "      <td>9.993262e+07</td>\n",
       "      <td>9585.000000</td>\n",
       "      <td>9985.000000</td>\n",
       "      <td>257.000000</td>\n",
       "      <td>700.000000</td>\n",
       "      <td>420.000000</td>\n",
       "      <td>1.362900e+07</td>\n",
       "      <td>1.000000</td>\n",
       "      <td>1997.000000</td>\n",
       "    </tr>\n",
       "  </tbody>\n",
       "</table>\n",
       "</div>"
      ],
      "text/plain": [
       "            item_id        price    old_price        depth       height  \\\n",
       "count  3.694000e+03  3694.000000  3694.000000  3694.000000  3694.000000   \n",
       "mean   4.863240e+07  1078.208419  1125.014348    55.880211    98.524228   \n",
       "std    2.888709e+07  1374.652494  1443.543124    26.683012    55.201894   \n",
       "min    5.848700e+04     3.000000     3.000000     1.000000     1.000000   \n",
       "25%    2.039057e+07   180.900000   195.000000    40.000000    73.000000   \n",
       "50%    4.928808e+07   544.700000   550.000000    46.500000    80.000000   \n",
       "75%    7.040357e+07  1429.500000  1495.000000    65.000000   105.000000   \n",
       "max    9.993262e+07  9585.000000  9985.000000   257.000000   700.000000   \n",
       "\n",
       "             width        volume   price_diff  diff_amount  \n",
       "count  3694.000000  3.694000e+03  3694.000000  3694.000000  \n",
       "mean    105.420953  7.058127e+05     0.177044    46.805929  \n",
       "std      68.800229  9.146756e+05     0.381757   170.552565  \n",
       "min       1.000000  4.000000e+01     0.000000     0.000000  \n",
       "25%      60.000000  2.042400e+05     0.000000     0.000000  \n",
       "50%      80.000000  3.072000e+05     0.000000     0.000000  \n",
       "75%     141.000000  8.640000e+05     0.000000     0.000000  \n",
       "max     420.000000  1.362900e+07     1.000000  1997.000000  "
      ]
     },
     "execution_count": 161,
     "metadata": {},
     "output_type": "execute_result"
    }
   ],
   "source": [
    "#descriptive statistics\n",
    "df.describe()"
   ]
  },
  {
   "cell_type": "markdown",
   "id": "9e00b0c3",
   "metadata": {},
   "source": [
    "# EXPLORATORY DATA ANALYSIS "
   ]
  },
  {
   "cell_type": "code",
   "execution_count": 162,
   "id": "c09d0710",
   "metadata": {},
   "outputs": [
    {
     "data": {
      "text/plain": [
       "Text(0.5, 0.98, 'all distributions')"
      ]
     },
     "execution_count": 162,
     "metadata": {},
     "output_type": "execute_result"
    },
    {
     "data": {
      "image/png": "[encoded data removed]",
      "text/plain": [
       "<Figure size 720x1080 with 6 Axes>"
      ]
     },
     "metadata": {
      "needs_background": "light"
     },
     "output_type": "display_data"
    }
   ],
   "source": [
    "#distribution diagramme\n",
    "fig, axes = plt.subplots(3,2,figsize=(10,15))\n",
    "axes = axes.flatten()\n",
    "sns.histplot(df['depth'],bins=20,kde=True,ax=axes[0],palette='CMRmap')\n",
    "sns.histplot(df['height'],bins=20,kde=True,ax=axes[1],palette='GnBu')\n",
    "sns.histplot(df['width'],bins=20,kde=True,ax=axes[2],palette='Oranges_r')\n",
    "sns.histplot(df['old_price'],bins=20,kde=True,ax=axes[3],palette='rock')\n",
    "sns.histplot(df['price'],bins=20,kde=True,ax=axes[4],palette='BrBG_r')\n",
    "\n",
    "fig.suptitle('all distributions',fontsize=24)"
   ]
  },
  {
   "cell_type": "code",
   "execution_count": 163,
   "id": "64e68295",
   "metadata": {},
   "outputs": [],
   "source": [
    "# most produced producted category\n",
    "categ_prod = df['category'].value_counts()"
   ]
  },
  {
   "cell_type": "code",
   "execution_count": 164,
   "id": "205ef816",
   "metadata": {},
   "outputs": [
    {
     "data": {
      "text/plain": [
       "Text(0.5, 1.0, 'The most produced producted category')"
      ]
     },
     "execution_count": 164,
     "metadata": {},
     "output_type": "execute_result"
    },
    {
     "data": {
      "image/png": "[encoded data removed]",
      "text/plain": [
       "<Figure size 432x288 with 1 Axes>"
      ]
     },
     "metadata": {
      "needs_background": "light"
     },
     "output_type": "display_data"
    }
   ],
   "source": [
    "categ_prod.plot(kind='barh',color='blue')\n",
    "plt.title('The most produced producted category')"
   ]
  },
  {
   "cell_type": "code",
   "execution_count": 165,
   "id": "4cc13e1b",
   "metadata": {},
   "outputs": [
    {
     "data": {
      "text/plain": [
       "Text(0.5, 0.98, 'Product Proportion on Price,Colors and Online Availability')"
      ]
     },
     "execution_count": 165,
     "metadata": {},
     "output_type": "execute_result"
    },
    {
     "data": {
      "image/png": "[encoded data removed]",
      "text/plain": [
       "<Figure size 720x1080 with 3 Axes>"
      ]
     },
     "metadata": {},
     "output_type": "display_data"
    }
   ],
   "source": [
    "# Product proportion \n",
    "fig, axes = plt.subplots(3,1,figsize=(10,15))\n",
    "axes = axes.flatten()\n",
    "df['price_diff'].value_counts().plot(kind='pie',\n",
    "             labels=['No','Yes'],ax =axes[0])\n",
    "df['sellable_online'].value_counts().plot(kind='pie', ax=axes[1])\n",
    "df['other_colors'].value_counts().plot(kind='pie',\n",
    "            labels=['No','Yes'],ax=axes[2])\n",
    "fig.suptitle('Product Proportion on Price,Colors and Online Availability',fontsize=15)"
   ]
  },
  {
   "cell_type": "code",
   "execution_count": 166,
   "id": "43610bf2",
   "metadata": {},
   "outputs": [
    {
     "data": {
      "text/plain": [
       "Text(0.5, 0.98, 'Old Price vs Price,Volume vs Price')"
      ]
     },
     "execution_count": 166,
     "metadata": {},
     "output_type": "execute_result"
    },
    {
     "data": {
      "image/png": "[encoded data removed]",
      "text/plain": [
       "<Figure size 720x360 with 2 Axes>"
      ]
     },
     "metadata": {
      "needs_background": "light"
     },
     "output_type": "display_data"
    }
   ],
   "source": [
    "# Relationship between price with old price and product volume\n",
    "product_pairs =[('price','old_price'),('volume','price')]\n",
    "fig , axes = plt.subplots(1,2,figsize=(10,5))\n",
    "axes = axes.flatten()\n",
    "for i in range(2):\n",
    "    sns.regplot(data=df,x=product_pairs[i][0],y=product_pairs[i][1],ax=axes[i],scatter=True,\n",
    "               color='blue',ci=95)\n",
    "fig.suptitle('Old Price vs Price,Volume vs Price',fontsize=15)    "
   ]
  },
  {
   "cell_type": "code",
   "execution_count": 167,
   "id": "1a9dc7b2",
   "metadata": {},
   "outputs": [
    {
     "data": {
      "text/plain": [
       "Text(0.5, 0.98, 'Price vs Other Colors,Price vs Sellable Online')"
      ]
     },
     "execution_count": 167,
     "metadata": {},
     "output_type": "execute_result"
    },
    {
     "data": {
      "image/png": "[encoded data removed]",
      "text/plain": [
       "<Figure size 720x576 with 2 Axes>"
      ]
     },
     "metadata": {
      "needs_background": "light"
     },
     "output_type": "display_data"
    }
   ],
   "source": [
    "# Color options or Online Availability? which ore more affected product price\n",
    "fig , axes = plt.subplots(1,2,figsize=(10,8))\n",
    "axes = axes.flatten()\n",
    "sns.boxplot(data=df, x='other_colors',y='price',ax=axes[0],palette='gnuplot2_r')\n",
    "sns.boxplot(data=df,x='sellable_online',y='price',ax=axes[1],palette='viridis')\n",
    "fig.suptitle('Price vs Other Colors,Price vs Sellable Online',fontsize=15)"
   ]
  },
  {
   "cell_type": "markdown",
   "id": "ddb2164f",
   "metadata": {},
   "source": [
    "# PRICE PREDICTION WITH LINEAR REGRESSION"
   ]
  },
  {
   "cell_type": "markdown",
   "id": "0c13523f",
   "metadata": {},
   "source": [
    "Data Preprocessing"
   ]
  },
  {
   "cell_type": "code",
   "execution_count": 168,
   "id": "4a7408c9",
   "metadata": {},
   "outputs": [],
   "source": [
    "# Let's prepare our data. we need to encoded the categoricals features from our data\n",
    "df_categoricals = df.select_dtypes(include='object').columns\n",
    "#df_numericals = df.select_dtypes(include='number').columns\n",
    "encod = LabelEncoder()\n",
    "for col in df_categoricals:\n",
    "    df[col] = encod.fit_transform(df[col].astype(str)) \n",
    "df_bool = df.select_dtypes(include='bool').columns\n",
    "for i in df_bool:\n",
    "    df[i] = encod.fit_transform(df[i])"
   ]
  },
  {
   "cell_type": "code",
   "execution_count": 171,
   "id": "c7c4752b",
   "metadata": {},
   "outputs": [
    {
     "data": {
      "text/html": [
       "<div>\n",
       "<style scoped>\n",
       "    .dataframe tbody tr th:only-of-type {\n",
       "        vertical-align: middle;\n",
       "    }\n",
       "\n",
       "    .dataframe tbody tr th {\n",
       "        vertical-align: top;\n",
       "    }\n",
       "\n",
       "    .dataframe thead th {\n",
       "        text-align: right;\n",
       "    }\n",
       "</style>\n",
       "<table border=\"1\" class=\"dataframe\">\n",
       "  <thead>\n",
       "    <tr style=\"text-align: right;\">\n",
       "      <th></th>\n",
       "      <th>item_id</th>\n",
       "      <th>name</th>\n",
       "      <th>category</th>\n",
       "      <th>price</th>\n",
       "      <th>old_price</th>\n",
       "      <th>sellable_online</th>\n",
       "      <th>link</th>\n",
       "      <th>other_colors</th>\n",
       "      <th>short_description</th>\n",
       "      <th>designer</th>\n",
       "      <th>depth</th>\n",
       "      <th>height</th>\n",
       "      <th>width</th>\n",
       "      <th>volume</th>\n",
       "      <th>price_diff</th>\n",
       "      <th>diff_amount</th>\n",
       "    </tr>\n",
       "  </thead>\n",
       "  <tbody>\n",
       "    <tr>\n",
       "      <th>0</th>\n",
       "      <td>90420332</td>\n",
       "      <td>123</td>\n",
       "      <td>0</td>\n",
       "      <td>265.0</td>\n",
       "      <td>265.0</td>\n",
       "      <td>1</td>\n",
       "      <td>806</td>\n",
       "      <td>0</td>\n",
       "      <td>147</td>\n",
       "      <td>333</td>\n",
       "      <td>47.0</td>\n",
       "      <td>99.0</td>\n",
       "      <td>51.0</td>\n",
       "      <td>237303.0</td>\n",
       "      <td>0</td>\n",
       "      <td>0.0</td>\n",
       "    </tr>\n",
       "    <tr>\n",
       "      <th>1</th>\n",
       "      <td>368814</td>\n",
       "      <td>387</td>\n",
       "      <td>0</td>\n",
       "      <td>995.0</td>\n",
       "      <td>995.0</td>\n",
       "      <td>0</td>\n",
       "      <td>1999</td>\n",
       "      <td>0</td>\n",
       "      <td>143</td>\n",
       "      <td>163</td>\n",
       "      <td>47.0</td>\n",
       "      <td>105.0</td>\n",
       "      <td>80.0</td>\n",
       "      <td>394800.0</td>\n",
       "      <td>0</td>\n",
       "      <td>0.0</td>\n",
       "    </tr>\n",
       "    <tr>\n",
       "      <th>2</th>\n",
       "      <td>9333523</td>\n",
       "      <td>390</td>\n",
       "      <td>0</td>\n",
       "      <td>2095.0</td>\n",
       "      <td>2095.0</td>\n",
       "      <td>0</td>\n",
       "      <td>2008</td>\n",
       "      <td>0</td>\n",
       "      <td>140</td>\n",
       "      <td>163</td>\n",
       "      <td>47.0</td>\n",
       "      <td>102.0</td>\n",
       "      <td>48.0</td>\n",
       "      <td>230112.0</td>\n",
       "      <td>0</td>\n",
       "      <td>0.0</td>\n",
       "    </tr>\n",
       "    <tr>\n",
       "      <th>3</th>\n",
       "      <td>80155205</td>\n",
       "      <td>493</td>\n",
       "      <td>0</td>\n",
       "      <td>69.0</td>\n",
       "      <td>69.0</td>\n",
       "      <td>1</td>\n",
       "      <td>2547</td>\n",
       "      <td>1</td>\n",
       "      <td>128</td>\n",
       "      <td>189</td>\n",
       "      <td>50.0</td>\n",
       "      <td>100.0</td>\n",
       "      <td>60.0</td>\n",
       "      <td>300000.0</td>\n",
       "      <td>0</td>\n",
       "      <td>0.0</td>\n",
       "    </tr>\n",
       "    <tr>\n",
       "      <th>4</th>\n",
       "      <td>30180504</td>\n",
       "      <td>380</td>\n",
       "      <td>0</td>\n",
       "      <td>225.0</td>\n",
       "      <td>225.0</td>\n",
       "      <td>1</td>\n",
       "      <td>1941</td>\n",
       "      <td>0</td>\n",
       "      <td>1595</td>\n",
       "      <td>310</td>\n",
       "      <td>60.0</td>\n",
       "      <td>43.0</td>\n",
       "      <td>74.0</td>\n",
       "      <td>190920.0</td>\n",
       "      <td>0</td>\n",
       "      <td>0.0</td>\n",
       "    </tr>\n",
       "  </tbody>\n",
       "</table>\n",
       "</div>"
      ],
      "text/plain": [
       "    item_id  name  category   price  old_price  sellable_online  link  \\\n",
       "0  90420332   123         0   265.0      265.0                1   806   \n",
       "1    368814   387         0   995.0      995.0                0  1999   \n",
       "2   9333523   390         0  2095.0     2095.0                0  2008   \n",
       "3  80155205   493         0    69.0       69.0                1  2547   \n",
       "4  30180504   380         0   225.0      225.0                1  1941   \n",
       "\n",
       "   other_colors  short_description  designer  depth  height  width    volume  \\\n",
       "0             0                147       333   47.0    99.0   51.0  237303.0   \n",
       "1             0                143       163   47.0   105.0   80.0  394800.0   \n",
       "2             0                140       163   47.0   102.0   48.0  230112.0   \n",
       "3             1                128       189   50.0   100.0   60.0  300000.0   \n",
       "4             0               1595       310   60.0    43.0   74.0  190920.0   \n",
       "\n",
       "   price_diff  diff_amount  \n",
       "0           0          0.0  \n",
       "1           0          0.0  \n",
       "2           0          0.0  \n",
       "3           0          0.0  \n",
       "4           0          0.0  "
      ]
     },
     "execution_count": 171,
     "metadata": {},
     "output_type": "execute_result"
    }
   ],
   "source": [
    "# Examine \n",
    "df.head()"
   ]
  },
  {
   "cell_type": "code",
   "execution_count": 173,
   "id": "060bc32b",
   "metadata": {},
   "outputs": [],
   "source": [
    "# delete the columns name: item_id, old_price,short_description\n",
    "df = df.drop(['item_id','old_price','short_description','link'],axis=1)"
   ]
  },
  {
   "cell_type": "code",
   "execution_count": 174,
   "id": "4049442b",
   "metadata": {},
   "outputs": [],
   "source": [
    "# split our data\n",
    "feature = df.drop(columns='price')\n",
    "target = df[['price']]"
   ]
  },
  {
   "cell_type": "code",
   "execution_count": 175,
   "id": "6f91215f",
   "metadata": {},
   "outputs": [],
   "source": [
    "#first splitting train and test\n",
    "X_Pretrain,X_test,y_Pretrain,y_test = train_test_split(feature,target,test_size=0.2,random_state=42)\n",
    "#second splitting train and val\n",
    "X_train,X_val,y_train,y_val = train_test_split(X_Pretrain,y_Pretrain,test_size=0.2,random_state=42)"
   ]
  },
  {
   "cell_type": "code",
   "execution_count": 180,
   "id": "777c1717",
   "metadata": {},
   "outputs": [
    {
     "data": {
      "text/html": [
       "<div>\n",
       "<style scoped>\n",
       "    .dataframe tbody tr th:only-of-type {\n",
       "        vertical-align: middle;\n",
       "    }\n",
       "\n",
       "    .dataframe tbody tr th {\n",
       "        vertical-align: top;\n",
       "    }\n",
       "\n",
       "    .dataframe thead th {\n",
       "        text-align: right;\n",
       "    }\n",
       "</style>\n",
       "<table border=\"1\" class=\"dataframe\">\n",
       "  <thead>\n",
       "    <tr style=\"text-align: right;\">\n",
       "      <th></th>\n",
       "      <th>feature</th>\n",
       "      <th>vif_score</th>\n",
       "    </tr>\n",
       "  </thead>\n",
       "  <tbody>\n",
       "    <tr>\n",
       "      <th>1</th>\n",
       "      <td>name</td>\n",
       "      <td>1.057368</td>\n",
       "    </tr>\n",
       "    <tr>\n",
       "      <th>2</th>\n",
       "      <td>category</td>\n",
       "      <td>1.073175</td>\n",
       "    </tr>\n",
       "    <tr>\n",
       "      <th>3</th>\n",
       "      <td>sellable_online</td>\n",
       "      <td>1.013317</td>\n",
       "    </tr>\n",
       "    <tr>\n",
       "      <th>4</th>\n",
       "      <td>other_colors</td>\n",
       "      <td>1.045568</td>\n",
       "    </tr>\n",
       "    <tr>\n",
       "      <th>5</th>\n",
       "      <td>designer</td>\n",
       "      <td>1.029042</td>\n",
       "    </tr>\n",
       "    <tr>\n",
       "      <th>6</th>\n",
       "      <td>volume</td>\n",
       "      <td>1.168960</td>\n",
       "    </tr>\n",
       "    <tr>\n",
       "      <th>7</th>\n",
       "      <td>price_diff</td>\n",
       "      <td>1.538380</td>\n",
       "    </tr>\n",
       "    <tr>\n",
       "      <th>8</th>\n",
       "      <td>diff_amount</td>\n",
       "      <td>1.642156</td>\n",
       "    </tr>\n",
       "  </tbody>\n",
       "</table>\n",
       "</div>"
      ],
      "text/plain": [
       "           feature  vif_score\n",
       "1             name   1.057368\n",
       "2         category   1.073175\n",
       "3  sellable_online   1.013317\n",
       "4     other_colors   1.045568\n",
       "5         designer   1.029042\n",
       "6           volume   1.168960\n",
       "7       price_diff   1.538380\n",
       "8      diff_amount   1.642156"
      ]
     },
     "execution_count": 180,
     "metadata": {},
     "output_type": "execute_result"
    }
   ],
   "source": [
    "#calculate vif scores\n",
    "from statsmodels.stats.outliers_influence  import variance_inflation_factor as vif\n",
    "from statsmodels.tools.tools import add_constant\n",
    "X = add_constant(X_train)\n",
    "vif_df = pd.DataFrame([vif(X.values, i)\n",
    "                      for i in range(X.shape[1])],index=X.columns).reset_index()\n",
    "vif_df.columns =['feature','vif_score']\n",
    "vif_df = vif_df.loc[vif_df.feature!='const']\n",
    "vif_df"
   ]
  },
  {
   "cell_type": "code",
   "execution_count": 177,
   "id": "f8be8ff2",
   "metadata": {},
   "outputs": [
    {
     "data": {
      "image/png": "[encoded data removed]",
      "text/plain": [
       "<Figure size 720x504 with 2 Axes>"
      ]
     },
     "metadata": {
      "needs_background": "light"
     },
     "output_type": "display_data"
    }
   ],
   "source": [
    "#heatmap colleration\n",
    "price_train = pd.concat([X_train, y_train],axis=1)\n",
    "corr = price_train.corr()\n",
    "plt.figure(figsize=(10,7))\n",
    "sns.heatmap(corr,annot=True, fmt='.2f')\n",
    "plt.show()"
   ]
  },
  {
   "cell_type": "code",
   "execution_count": 178,
   "id": "c81676f0",
   "metadata": {},
   "outputs": [],
   "source": [
    "# drop redundant feature\n",
    "X_train = X_train.drop(columns=['depth','height','width'])\n",
    "X_test = X_test.drop(['depth','height','width'],axis=1)\n",
    "X_val = X_val.drop(columns=['depth','height','width'])"
   ]
  },
  {
   "cell_type": "code",
   "execution_count": 181,
   "id": "b985f136",
   "metadata": {},
   "outputs": [
    {
     "name": "stderr",
     "output_type": "stream",
     "text": [
      "C:\\Users\\bossv\\Documents\\anacProjects\\lib\\site-packages\\statsmodels\\tsa\\tsatools.py:142: FutureWarning: In a future version of pandas all arguments of concat except for the argument 'objs' will be keyword-only\n",
      "  x = pd.concat(x[::order], 1)\n"
     ]
    },
    {
     "data": {
      "text/html": [
       "<div>\n",
       "<style scoped>\n",
       "    .dataframe tbody tr th:only-of-type {\n",
       "        vertical-align: middle;\n",
       "    }\n",
       "\n",
       "    .dataframe tbody tr th {\n",
       "        vertical-align: top;\n",
       "    }\n",
       "\n",
       "    .dataframe thead th {\n",
       "        text-align: right;\n",
       "    }\n",
       "</style>\n",
       "<table border=\"1\" class=\"dataframe\">\n",
       "  <thead>\n",
       "    <tr style=\"text-align: right;\">\n",
       "      <th></th>\n",
       "      <th>feature</th>\n",
       "      <th>vif_score</th>\n",
       "    </tr>\n",
       "  </thead>\n",
       "  <tbody>\n",
       "    <tr>\n",
       "      <th>1</th>\n",
       "      <td>name</td>\n",
       "      <td>1.057368</td>\n",
       "    </tr>\n",
       "    <tr>\n",
       "      <th>2</th>\n",
       "      <td>category</td>\n",
       "      <td>1.073175</td>\n",
       "    </tr>\n",
       "    <tr>\n",
       "      <th>3</th>\n",
       "      <td>sellable_online</td>\n",
       "      <td>1.013317</td>\n",
       "    </tr>\n",
       "    <tr>\n",
       "      <th>4</th>\n",
       "      <td>other_colors</td>\n",
       "      <td>1.045568</td>\n",
       "    </tr>\n",
       "    <tr>\n",
       "      <th>5</th>\n",
       "      <td>designer</td>\n",
       "      <td>1.029042</td>\n",
       "    </tr>\n",
       "    <tr>\n",
       "      <th>6</th>\n",
       "      <td>volume</td>\n",
       "      <td>1.168960</td>\n",
       "    </tr>\n",
       "    <tr>\n",
       "      <th>7</th>\n",
       "      <td>price_diff</td>\n",
       "      <td>1.538380</td>\n",
       "    </tr>\n",
       "    <tr>\n",
       "      <th>8</th>\n",
       "      <td>diff_amount</td>\n",
       "      <td>1.642156</td>\n",
       "    </tr>\n",
       "  </tbody>\n",
       "</table>\n",
       "</div>"
      ],
      "text/plain": [
       "           feature  vif_score\n",
       "1             name   1.057368\n",
       "2         category   1.073175\n",
       "3  sellable_online   1.013317\n",
       "4     other_colors   1.045568\n",
       "5         designer   1.029042\n",
       "6           volume   1.168960\n",
       "7       price_diff   1.538380\n",
       "8      diff_amount   1.642156"
      ]
     },
     "execution_count": 181,
     "metadata": {},
     "output_type": "execute_result"
    }
   ],
   "source": [
    "# Re-calculate vif score\n",
    "X = add_constant(X_train)\n",
    "vif_df = pd.DataFrame([vif(X.values, i)\n",
    "                      for i in range(X.shape[1])],index=X.columns).reset_index()\n",
    "vif_df.columns = ['feature','vif_score']\n",
    "vif_df = vif_df.loc[vif_df.feature!='const']\n",
    "vif_df"
   ]
  },
  {
   "cell_type": "markdown",
   "id": "e7029a2c",
   "metadata": {},
   "source": [
    "Ridge Regression"
   ]
  },
  {
   "cell_type": "code",
   "execution_count": 182,
   "id": "185800f2",
   "metadata": {},
   "outputs": [
    {
     "data": {
      "text/plain": [
       "Ridge(alpha=10, random_state=42)"
      ]
     },
     "execution_count": 182,
     "metadata": {},
     "output_type": "execute_result"
    }
   ],
   "source": [
    "from sklearn.linear_model import Ridge\n",
    "# We need to know what is the best lamda value for our Linear regression\n",
    "#train the model\n",
    "X_price_train = X_train.to_numpy()\n",
    "y_price_train = y_train.to_numpy()\n",
    "y_price_train = y_price_train.reshape(len(y_price_train),)\n",
    "#define the model\n",
    "# 4 models with 4 different alpha (lamda)\n",
    "ridge_reg_pointzeroone = Ridge(alpha=0.01,random_state=42)\n",
    "ridge_reg_pointone = Ridge(alpha=0.1,random_state=42)\n",
    "ridge_reg_one = Ridge(alpha=1,random_state=42)\n",
    "ridge_reg_ten = Ridge(alpha=10,random_state=42)\n",
    "#fit the model(training)\n",
    "ridge_reg_pointzeroone.fit(X_price_train,y_price_train)\n",
    "ridge_reg_pointone.fit(X_price_train,y_price_train)\n",
    "ridge_reg_one.fit(X_price_train,y_train)\n",
    "ridge_reg_ten.fit(X_price_train,y_price_train)"
   ]
  },
  {
   "cell_type": "code",
   "execution_count": 183,
   "id": "6c63a917",
   "metadata": {},
   "outputs": [
    {
     "name": "stdout",
     "output_type": "stream",
     "text": [
      "RMSE of Ridge Regression model with alpha=0.01 is 987.252730825766 \n",
      "RMSE of Ridge Regression model with alpha=0.1 is 987.2517050840987 \n",
      "RMSE of Ridge Regression model with alpha=1 is 987.2418462723093 \n",
      "RMSE of Ridge Regression model with alpha=10 is 987.1705130199574 \n"
     ]
    },
    {
     "data": {
      "text/html": [
       "<div>\n",
       "<style scoped>\n",
       "    .dataframe tbody tr th:only-of-type {\n",
       "        vertical-align: middle;\n",
       "    }\n",
       "\n",
       "    .dataframe tbody tr th {\n",
       "        vertical-align: top;\n",
       "    }\n",
       "\n",
       "    .dataframe thead th {\n",
       "        text-align: right;\n",
       "    }\n",
       "</style>\n",
       "<table border=\"1\" class=\"dataframe\">\n",
       "  <thead>\n",
       "    <tr style=\"text-align: right;\">\n",
       "      <th></th>\n",
       "      <th>feature</th>\n",
       "      <th>coefficients</th>\n",
       "    </tr>\n",
       "  </thead>\n",
       "  <tbody>\n",
       "    <tr>\n",
       "      <th>0</th>\n",
       "      <td>intercept</td>\n",
       "      <td>97.781584</td>\n",
       "    </tr>\n",
       "    <tr>\n",
       "      <th>1</th>\n",
       "      <td>name</td>\n",
       "      <td>0.003576</td>\n",
       "    </tr>\n",
       "    <tr>\n",
       "      <th>2</th>\n",
       "      <td>category</td>\n",
       "      <td>21.064593</td>\n",
       "    </tr>\n",
       "    <tr>\n",
       "      <th>3</th>\n",
       "      <td>sellable_online</td>\n",
       "      <td>68.721860</td>\n",
       "    </tr>\n",
       "    <tr>\n",
       "      <th>4</th>\n",
       "      <td>other_colors</td>\n",
       "      <td>-58.972591</td>\n",
       "    </tr>\n",
       "    <tr>\n",
       "      <th>5</th>\n",
       "      <td>designer</td>\n",
       "      <td>0.692772</td>\n",
       "    </tr>\n",
       "    <tr>\n",
       "      <th>6</th>\n",
       "      <td>volume</td>\n",
       "      <td>0.000841</td>\n",
       "    </tr>\n",
       "    <tr>\n",
       "      <th>7</th>\n",
       "      <td>price_diff</td>\n",
       "      <td>-463.483432</td>\n",
       "    </tr>\n",
       "    <tr>\n",
       "      <th>8</th>\n",
       "      <td>diff_amount</td>\n",
       "      <td>2.067444</td>\n",
       "    </tr>\n",
       "  </tbody>\n",
       "</table>\n",
       "</div>"
      ],
      "text/plain": [
       "           feature  coefficients\n",
       "0        intercept     97.781584\n",
       "1             name      0.003576\n",
       "2         category     21.064593\n",
       "3  sellable_online     68.721860\n",
       "4     other_colors    -58.972591\n",
       "5         designer      0.692772\n",
       "6           volume      0.000841\n",
       "7       price_diff   -463.483432\n",
       "8      diff_amount      2.067444"
      ]
     },
     "execution_count": 183,
     "metadata": {},
     "output_type": "execute_result"
    }
   ],
   "source": [
    "#calculate the best  lamda value\n",
    "from sklearn.metrics import mean_squared_error\n",
    "X_price_validation = X_val.to_numpy()\n",
    "y_price_validation = y_val.to_numpy()\n",
    "y_price_validation = y_price_validation.reshape(len(y_price_validation),)\n",
    "\n",
    "alphas =[0.01,0.1,1,10]\n",
    "models = [ridge_reg_pointzeroone,\n",
    "          ridge_reg_pointone,\n",
    "          ridge_reg_one,\n",
    "          ridge_reg_ten]\n",
    "for model, alpha in zip(models,alphas):\n",
    "    y_predict_validation = model.predict(X_price_validation)\n",
    "    rmse = np.sqrt(mean_squared_error(y_price_validation,y_predict_validation))\n",
    "    print(f'RMSE of Ridge Regression model with alpha={alpha} is {rmse} ')\n",
    "# calculate the price prediction for Ridge Regression\n",
    "ridge_best = ridge_reg_ten\n",
    "coef_df = pd.DataFrame({'feature':['intercept'] + X_train.columns.tolist(),\n",
    "                        'coefficients':[ridge_best.intercept_]+ list(ridge_best.coef_)                        \n",
    "    \n",
    "})\n",
    "coef_df"
   ]
  },
  {
   "cell_type": "markdown",
   "id": "04a127e5",
   "metadata": {},
   "source": [
    "Lasso Regression"
   ]
  },
  {
   "cell_type": "code",
   "execution_count": 184,
   "id": "f5892b63",
   "metadata": {},
   "outputs": [
    {
     "data": {
      "text/plain": [
       "Lasso(alpha=10, random_state=42)"
      ]
     },
     "execution_count": 184,
     "metadata": {},
     "output_type": "execute_result"
    }
   ],
   "source": [
    "# train model\n",
    "from sklearn.linear_model import Lasso\n",
    "X_price_train = X_train.to_numpy()\n",
    "y_price_train = y_train.to_numpy()\n",
    "y_price_train = y_price_train.reshape(len(y_price_train),1)\n",
    "#define model\n",
    "# 4 models with different alpha (lamda)\n",
    "lasso_reg_pointzeroone = Lasso(alpha=0.01,random_state=42)\n",
    "lasso_reg_pointone = Lasso(alpha=0.1,random_state=42)\n",
    "lasso_reg_one = Lasso(alpha=1,random_state=42)\n",
    "lasso_reg_ten = Lasso(alpha=10,random_state=42)\n",
    "# fill the models\n",
    "lasso_reg_pointzeroone.fit(X_price_train,y_price_train)\n",
    "lasso_reg_pointone.fit(X_price_train,y_price_train)\n",
    "lasso_reg_one.fit(X_price_train,y_price_train)\n",
    "lasso_reg_ten.fit(X_price_train,y_price_train)"
   ]
  },
  {
   "cell_type": "code",
   "execution_count": 185,
   "id": "31f3f51a",
   "metadata": {},
   "outputs": [
    {
     "name": "stdout",
     "output_type": "stream",
     "text": [
      "RMSE of Lasso Regression model with=0.01 is 987.252465278707\n",
      "RMSE of Lasso Regression model with=0.1 is 987.2500761521386\n",
      "RMSE of Lasso Regression model with=1 is 987.2825197186934\n",
      "RMSE of Lasso Regression model with=10 is 987.5125295988879\n"
     ]
    },
    {
     "data": {
      "text/html": [
       "<div>\n",
       "<style scoped>\n",
       "    .dataframe tbody tr th:only-of-type {\n",
       "        vertical-align: middle;\n",
       "    }\n",
       "\n",
       "    .dataframe tbody tr th {\n",
       "        vertical-align: top;\n",
       "    }\n",
       "\n",
       "    .dataframe thead th {\n",
       "        text-align: right;\n",
       "    }\n",
       "</style>\n",
       "<table border=\"1\" class=\"dataframe\">\n",
       "  <thead>\n",
       "    <tr style=\"text-align: right;\">\n",
       "      <th></th>\n",
       "      <th>feature</th>\n",
       "      <th>coefficient</th>\n",
       "    </tr>\n",
       "  </thead>\n",
       "  <tbody>\n",
       "    <tr>\n",
       "      <th>0</th>\n",
       "      <td>intercept</td>\n",
       "      <td>[71.8443967230146]</td>\n",
       "    </tr>\n",
       "    <tr>\n",
       "      <th>1</th>\n",
       "      <td>name</td>\n",
       "      <td>0.005163</td>\n",
       "    </tr>\n",
       "    <tr>\n",
       "      <th>2</th>\n",
       "      <td>category</td>\n",
       "      <td>21.085834</td>\n",
       "    </tr>\n",
       "    <tr>\n",
       "      <th>3</th>\n",
       "      <td>sellable_online</td>\n",
       "      <td>97.688536</td>\n",
       "    </tr>\n",
       "    <tr>\n",
       "      <th>4</th>\n",
       "      <td>other_colors</td>\n",
       "      <td>-60.026131</td>\n",
       "    </tr>\n",
       "    <tr>\n",
       "      <th>5</th>\n",
       "      <td>designer</td>\n",
       "      <td>0.69107</td>\n",
       "    </tr>\n",
       "    <tr>\n",
       "      <th>6</th>\n",
       "      <td>volume</td>\n",
       "      <td>0.000841</td>\n",
       "    </tr>\n",
       "    <tr>\n",
       "      <th>7</th>\n",
       "      <td>price_diff</td>\n",
       "      <td>-483.30835</td>\n",
       "    </tr>\n",
       "    <tr>\n",
       "      <th>8</th>\n",
       "      <td>diff_amount</td>\n",
       "      <td>2.093324</td>\n",
       "    </tr>\n",
       "  </tbody>\n",
       "</table>\n",
       "</div>"
      ],
      "text/plain": [
       "           feature         coefficient\n",
       "0        intercept  [71.8443967230146]\n",
       "1             name            0.005163\n",
       "2         category           21.085834\n",
       "3  sellable_online           97.688536\n",
       "4     other_colors          -60.026131\n",
       "5         designer             0.69107\n",
       "6           volume            0.000841\n",
       "7       price_diff          -483.30835\n",
       "8      diff_amount            2.093324"
      ]
     },
     "execution_count": 185,
     "metadata": {},
     "output_type": "execute_result"
    }
   ],
   "source": [
    "# calculate the best lamda value\n",
    "from sklearn.metrics import mean_squared_error\n",
    "X_price_val = X_val.to_numpy()\n",
    "y_price_val = y_val.to_numpy()\n",
    "y_price_val = y_price_val.reshape(len(y_price_val),)\n",
    "\n",
    "alphas = [0.01,0.1,1,10]\n",
    "\n",
    "models =[lasso_reg_pointzeroone,\n",
    "         lasso_reg_pointone,\n",
    "         lasso_reg_one,\n",
    "         lasso_reg_ten]\n",
    "\n",
    "for alpha,model in zip(alphas,models):\n",
    "    y_predict_val = model.predict(X_price_val)\n",
    "    rmse = np.sqrt(mean_squared_error(y_price_val,y_predict_val))\n",
    "    print(f'RMSE of Lasso Regression model with={alpha} is {rmse}')\n",
    "# calculate the price prediction of lasso regression\n",
    "lasso_best = lasso_reg_pointone\n",
    "coef_dfl = pd.DataFrame({'feature':['intercept']+X_val.columns.tolist(),\n",
    "                         'coefficient':[lasso_best.intercept_]+list(lasso_best.coef_)\n",
    "    \n",
    "})\n",
    "coef_dfl"
   ]
  },
  {
   "cell_type": "markdown",
   "id": "031a9d4b",
   "metadata": {},
   "source": [
    "Training Error/Model Evaluation\n",
    "Ridge Regression"
   ]
  },
  {
   "cell_type": "code",
   "execution_count": 186,
   "id": "bcf7355a",
   "metadata": {},
   "outputs": [
    {
     "name": "stdout",
     "output_type": "stream",
     "text": [
      "RMSE for training data is 998.690183729827\n",
      "RAE for training data is 654.1170892121919\n",
      "RAP for training data is 3.5985254264731696\n",
      "RMSE for testing data is 1019.9781385549287\n",
      "RAE for testing data is 654.333193061288\n",
      "RAP for testing data is 4.2497029682195055\n"
     ]
    }
   ],
   "source": [
    "# prepare prediction result on training data\n",
    "y_predict_train = ridge_best.predict(X_price_train) \n",
    "from sklearn.metrics import mean_squared_error\n",
    "from sklearn.metrics import mean_absolute_error\n",
    "from sklearn.metrics import mean_absolute_percentage_error\n",
    "print('RMSE for training data is {}'.format(np.sqrt(mean_squared_error(y_price_train,y_predict_train))))\n",
    "print('RAE for training data is {}'.format(mean_absolute_error(y_price_train,y_predict_train)))\n",
    "print('RAP for training data is {}'.format(mean_absolute_percentage_error(y_price_train,y_predict_train)))\n",
    "\n",
    "# error on test\n",
    "X_price_test = X_test.to_numpy()\n",
    "y_price_test = y_test.to_numpy()\n",
    "y_price_test = y_price_test.reshape(len(y_price_test),)\n",
    "y_predict_test = ridge_best.predict(X_price_test)\n",
    "print('RMSE for testing data is {}'.format(np.sqrt(mean_squared_error(y_price_test,y_predict_test))))\n",
    "print('RAE for testing data is {}'.format(mean_absolute_error(y_price_test,y_predict_test)))\n",
    "print('RAP for testing data is {}'.format(mean_absolute_percentage_error(y_price_test,y_predict_test)))\n"
   ]
  },
  {
   "cell_type": "markdown",
   "id": "eb157d1f",
   "metadata": {},
   "source": [
    "Training Error/Model Evaluation\n",
    "Lasso Regression"
   ]
  },
  {
   "cell_type": "code",
   "execution_count": 187,
   "id": "1158532b",
   "metadata": {},
   "outputs": [
    {
     "name": "stdout",
     "output_type": "stream",
     "text": [
      "RMSE for training data is 998.6638772559531\n",
      "RAE for training data is 654.4635527199953\n",
      "RAP for training data is 3.6049379799109906\n",
      "RMSE for testing data is 1019.9710520387994\n",
      "RAE for testing data is 654.9349302761655\n",
      "RAP for testing data is 4.263537130230901\n"
     ]
    }
   ],
   "source": [
    "# prepare prediction result on training data\n",
    "y_predict_train = lasso_best.predict(X_price_train) \n",
    "from sklearn.metrics import mean_squared_error\n",
    "from sklearn.metrics import mean_absolute_error\n",
    "from sklearn.metrics import mean_absolute_percentage_error\n",
    "print('RMSE for training data is {}'.format(np.sqrt(mean_squared_error(y_price_train,y_predict_train))))\n",
    "print('RAE for training data is {}'.format(mean_absolute_error(y_price_train,y_predict_train)))\n",
    "print('RAP for training data is {}'.format(mean_absolute_percentage_error(y_price_train,y_predict_train)))\n",
    "\n",
    "# error on test\n",
    "X_price_test = X_test.to_numpy()\n",
    "y_price_test = y_test.to_numpy()\n",
    "y_price_test = y_price_test.reshape(len(y_price_test),)\n",
    "y_predict_test = lasso_best.predict(X_price_test)\n",
    "print('RMSE for testing data is {}'.format(np.sqrt(mean_squared_error(y_price_test,y_predict_test))))\n",
    "print('RAE for testing data is {}'.format(mean_absolute_error(y_price_test,y_predict_test)))\n",
    "print('RAP for testing data is {}'.format(mean_absolute_percentage_error(y_price_test,y_predict_test)))\n"
   ]
  },
  {
   "cell_type": "code",
   "execution_count": null,
   "id": "a9a87a49",
   "metadata": {},
   "outputs": [],
   "source": []
  }
 ],
 "metadata": {
  "kernelspec": {
   "display_name": "Python 3 (ipykernel)",
   "language": "python",
   "name": "python3"
  },
  "language_info": {
   "codemirror_mode": {
    "name": "ipython",
    "version": 3
   },
   "file_extension": ".py",
   "mimetype": "text/x-python",
   "name": "python",
   "nbconvert_exporter": "python",
   "pygments_lexer": "ipython3",
   "version": "3.9.7"
  }
 },
 "nbformat": 4,
 "nbformat_minor": 5
}
